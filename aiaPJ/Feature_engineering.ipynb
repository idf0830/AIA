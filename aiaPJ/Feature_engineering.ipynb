{
 "cells": [
  {
   "cell_type": "code",
   "execution_count": 1,
   "metadata": {},
   "outputs": [],
   "source": [
    "import pandas as pd\n",
    "import shapefile\n",
    "import matplotlib.pyplot as plt\n",
    "from tqdm import tqdm_notebook as tqdm\n",
    "import geopandas as gp\n",
    "from shapely.geometry import Point,Polygon\n",
    "import bs4"
   ]
  },
  {
   "cell_type": "markdown",
   "metadata": {},
   "source": [
    "## 讀實價登錄資料\n",
    "- 去掉沒用的column"
   ]
  },
  {
   "cell_type": "code",
   "execution_count": 3,
   "metadata": {},
   "outputs": [],
   "source": [
    "df1 = pd.read_excel('/projectdata/nckugeo01/實價登錄資料.xls')\n",
    "df1 = df1.drop('Count IF',axis=1)"
   ]
  },
  {
   "cell_type": "markdown",
   "metadata": {},
   "source": [
    "## Feature\n",
    "- total_layers: 總樓層數\n",
    "- Rezone_5: 標的是否在重劃區五期內\n",
    "- Rezone_7: 標的是否在重劃區七期內\n",
    "- 行政區：中區、北區、北屯區、南區、南屯區、后里區、外埔區、大安區、大甲區、大肚區、大里區、大雅區、太平區、新社區、東勢區、東區、梧棲區、沙鹿區、清水區、潭子區、烏日區、石岡區、神岡區、西區、西屯區、豐原區、霧峰區、龍井區（one-hot）\n",
    "- admin_area: 標的是否在 ['西區','西屯區','潭子區','南屯區','大雅區','北屯區','南區','北區','豐原區','大里區','太平區']內\n",
    "- 住宅大樓\n",
    "- 公寓\n",
    "- 套房\n",
    "- 華廈\n",
    "- 透天厝\n",
    "- others: 標的屬於 ['倉庫','其他','工廠','農舍','廠辦']\n",
    "- 商用: 標的屬於 ['店面(店鋪)','辦公商業大樓']\n",
    "- may_be_zero: 標的屬於 ['倉庫','辦公商業大樓','工廠','農舍'] 可能缺少每坪單價\n",
    "- BM_B: 標的建材屬磚造\n",
    "- BM_R: 標的建材屬鋼筋混凝土"
   ]
  },
  {
   "cell_type": "markdown",
   "metadata": {},
   "source": [
    "### total_layers"
   ]
  },
  {
   "cell_type": "code",
   "execution_count": 4,
   "metadata": {},
   "outputs": [],
   "source": [
    "def convertChineseDigitsToArabic (chinese_digits, encoding=\"utf-8\"):\n",
    "    chs_arabic_map = {u'零':0, u'一':1, u'二':2, u'三':3, u'四':4,u'五':5, u'六':6, u'七':7, u'八':8, u'九':9,u'十':10}\n",
    "    result  = 0\n",
    "    tmp     = 0\n",
    "    hnd_mln = 0\n",
    "    for count in range(len(chinese_digits)):\n",
    "        curr_char  = chinese_digits[count]\n",
    "        curr_digit = chs_arabic_map.get(curr_char, None)\n",
    "        if curr_digit >= 10:\n",
    "            tmp    = 1 if tmp == 0 else tmp\n",
    "            result = result + curr_digit * tmp\n",
    "            tmp    = 0\n",
    "        # meet single digit\n",
    "        elif curr_digit is not None:\n",
    "            tmp = tmp * 10 + curr_digit\n",
    "        else:\n",
    "            return result\n",
    "    result = result + tmp\n",
    "    result = result + hnd_mln\n",
    "    return result"
   ]
  },
  {
   "cell_type": "code",
   "execution_count": 5,
   "metadata": {},
   "outputs": [],
   "source": [
    "layer = df1.總樓層數.str[:-1]\n",
    "\n",
    "layer = layer.fillna('零')\n",
    "\n",
    "layer = layer.replace('地下','五十')\n",
    "\n",
    "layer = layer.replace('見其他登記事','六十')\n",
    "\n",
    "layer_num = [convertChineseDigitsToArabic(i) for i in layer]\n",
    "\n",
    "layer_num = [-1 if i == 50 else i for i in layer_num ]\n",
    "\n",
    "layer_num = [5 if i == 60 else i for i in layer_num ]\n",
    "\n",
    "ladf = pd.DataFrame(layer_num,columns=['total_layers'])"
   ]
  },
  {
   "cell_type": "markdown",
   "metadata": {},
   "source": [
    "### Rezone_5、7"
   ]
  },
  {
   "cell_type": "code",
   "execution_count": 10,
   "metadata": {},
   "outputs": [],
   "source": [
    "Rezone = gp.GeoDataFrame.from_file('at071-group01/Rezone/Rezone.shp')"
   ]
  },
  {
   "cell_type": "code",
   "execution_count": 11,
   "metadata": {},
   "outputs": [
    {
     "data": {
      "application/vnd.jupyter.widget-view+json": {
       "model_id": "e2ebd39b529d473b98d1804c7e6f919b",
       "version_major": 2,
       "version_minor": 0
      },
      "text/html": [
       "<p>Failed to display Jupyter Widget of type <code>HBox</code>.</p>\n",
       "<p>\n",
       "  If you're reading this message in the Jupyter Notebook or JupyterLab Notebook, it may mean\n",
       "  that the widgets JavaScript is still loading. If this message persists, it\n",
       "  likely means that the widgets JavaScript library is either not installed or\n",
       "  not enabled. See the <a href=\"https://ipywidgets.readthedocs.io/en/stable/user_install.html\">Jupyter\n",
       "  Widgets Documentation</a> for setup instructions.\n",
       "</p>\n",
       "<p>\n",
       "  If you're reading this message in another frontend (for example, a static\n",
       "  rendering on GitHub or <a href=\"https://nbviewer.jupyter.org/\">NBViewer</a>),\n",
       "  it may mean that your frontend doesn't currently support widgets.\n",
       "</p>\n"
      ],
      "text/plain": [
       "HBox(children=(IntProgress(value=0, max=49), HTML(value='')))"
      ]
     },
     "metadata": {},
     "output_type": "display_data"
    },
    {
     "name": "stdout",
     "output_type": "stream",
     "text": [
      "\n"
     ]
    }
   ],
   "source": [
    "Rdf = pd.DataFrame()\n",
    "for i in Rezone.Name:\n",
    "    Rdf[i] = 0\n",
    "\n",
    "for j in tqdm(range(len(Rezone))):\n",
    "    a = []\n",
    "    pal = Rezone.geometry[j]\n",
    "    for i in range(len(df1)):\n",
    "        poi = Point(df1.iloc[i].Response_X,df1.iloc[i].Response_Y)\n",
    "        if pal.contains(poi):\n",
    "            a.append(1)\n",
    "        else:\n",
    "            a.append(0)\n",
    "    Rdf[Rezone.Name[j]] = a   "
   ]
  },
  {
   "cell_type": "code",
   "execution_count": 15,
   "metadata": {},
   "outputs": [],
   "source": [
    "Rdf = Rdf[['五期','七期']]"
   ]
  },
  {
   "cell_type": "code",
   "execution_count": 16,
   "metadata": {},
   "outputs": [],
   "source": [
    "Rdf.columns = ['Rezone_5','Rezone_7']"
   ]
  },
  {
   "cell_type": "markdown",
   "metadata": {},
   "source": [
    "### Admin_area"
   ]
  },
  {
   "cell_type": "code",
   "execution_count": 19,
   "metadata": {},
   "outputs": [],
   "source": [
    "all_ad = pd.get_dummies(df1.鄉鎮市區)"
   ]
  },
  {
   "cell_type": "code",
   "execution_count": 32,
   "metadata": {},
   "outputs": [],
   "source": [
    "ar = ['西區','西屯區','潭子區','南屯區','大雅區','北屯區','南區','北區','豐原區','大里區','太平區']\n",
    "\n",
    "y=[]\n",
    "for i in df1.鄉鎮市區:\n",
    "    if i in ar:\n",
    "        y.append(1)\n",
    "    else:\n",
    "        y.append(0)\n",
    "all_ad['admin_area'] = y"
   ]
  },
  {
   "cell_type": "code",
   "execution_count": 23,
   "metadata": {},
   "outputs": [],
   "source": [
    "# col_n = ['ad_C', 'ad_N', 'ad_NT', 'ad_S', 'ad_ST', 'ad_HL', 'ad_YP', 'ad_DA', 'ad_DJ', 'ad_DD',\n",
    "#        'ad_DL', 'ad_DY', 'ad_TP', 'ad_SS', 'ad_DS', 'ad_E', 'ad_WC', 'ad_CL', 'ad_CT', 'ad_TG',\n",
    "#        'ad_WZ', 'ad_CK', 'ad_CG', 'ad_W', 'ad_WT', 'ad_FY', 'ad_WF', 'ad_LG']"
   ]
  },
  {
   "cell_type": "markdown",
   "metadata": {},
   "source": [
    "### Building_type"
   ]
  },
  {
   "cell_type": "code",
   "execution_count": 26,
   "metadata": {},
   "outputs": [],
   "source": [
    "btdf = pd.get_dummies(df1.建物型態)"
   ]
  },
  {
   "cell_type": "code",
   "execution_count": 28,
   "metadata": {},
   "outputs": [],
   "source": [
    "btdf['others'] = btdf['倉庫'] + btdf['其他'] + btdf['工廠'] + btdf['農舍'] + btdf['廠辦']\n",
    "btdf['商用'] = btdf['店面(店鋪)'] + btdf['辦公商業大樓']\n",
    "btdf['may_be_zero'] = btdf['倉庫'] + btdf['辦公商業大樓'] + btdf['工廠'] + btdf['農舍']\n",
    "\n",
    "btdf = btdf.drop(['倉庫','其他','工廠','農舍','廠辦','店面(店鋪)','辦公商業大樓'],axis=1)\n",
    "btdf.columns = ['住宅大樓', '公寓', '套房', '華廈', '透天厝','others', '商用', 'may_be_zero']"
   ]
  },
  {
   "cell_type": "markdown",
   "metadata": {},
   "source": [
    "### Building_Materials\n",
    "- 鋼筋混凝土\n",
    "- 磚造"
   ]
  },
  {
   "cell_type": "code",
   "execution_count": 35,
   "metadata": {},
   "outputs": [],
   "source": [
    "y = []\n",
    "for i in df1.主要建材.str.contains('鋼筋混凝土'):\n",
    "    if i:\n",
    "        y.append(1)\n",
    "    else:\n",
    "        y.append(0)"
   ]
  },
  {
   "cell_type": "code",
   "execution_count": 36,
   "metadata": {},
   "outputs": [],
   "source": [
    "x = []\n",
    "for i in df1.主要建材.str.contains('磚造'):\n",
    "    if i:\n",
    "        x.append(1)\n",
    "    else:\n",
    "        x.append(0)"
   ]
  },
  {
   "cell_type": "code",
   "execution_count": 45,
   "metadata": {},
   "outputs": [],
   "source": [
    "bmdf = pd.DataFrame([x,y]).transpose()\n",
    "\n",
    "bmdf.columns = ['BM_B','BM_R']"
   ]
  },
  {
   "cell_type": "markdown",
   "metadata": {},
   "source": [
    "## Merge_dataframe"
   ]
  },
  {
   "cell_type": "code",
   "execution_count": 51,
   "metadata": {},
   "outputs": [],
   "source": [
    "yoga_feature = pd.concat([ladf,Rdf,all_ad,btdf,bmdf],axis=1)"
   ]
  },
  {
   "cell_type": "code",
   "execution_count": 53,
   "metadata": {},
   "outputs": [],
   "source": [
    "yoga_feature.to_csv('feature_by_yoga.csv',index=False)"
   ]
  },
  {
   "cell_type": "markdown",
   "metadata": {},
   "source": [
    "## 去除特殊關係交易"
   ]
  },
  {
   "cell_type": "code",
   "execution_count": null,
   "metadata": {},
   "outputs": [],
   "source": [
    "import pandas as pd\n",
    "\n",
    "df = pd.read_csv('all_data.csv') #30000 筆 feature\n",
    "\n",
    "df1 = pd.read_csv('at071-group01/tgos_80k.csv') #實價登陸的資料\n",
    "df1 = df1[:30000]\n",
    "\n",
    "df2 = pd.concat([df1,df],axis = 1)\n",
    "\n",
    "df2['備註'] = df2.備註.fillna('無備註')\n",
    "\n",
    "df2 = df2[~df2.備註.str.contains('間之')]\n",
    "\n",
    "#然後再把不要的欄位清掉，我的做法是把 column 重新 insert 一次 (確定沒有重複的 Column name) 再 drop\n",
    "#[i for i in df2.columns] #看有哪些欄位"
   ]
  },
  {
   "cell_type": "markdown",
   "metadata": {},
   "source": [
    "## 內環、中環、外環"
   ]
  },
  {
   "cell_type": "code",
   "execution_count": 2,
   "metadata": {},
   "outputs": [],
   "source": [
    "df = pd.read_csv('final_data_26528.csv')"
   ]
  },
  {
   "cell_type": "code",
   "execution_count": 4,
   "metadata": {},
   "outputs": [],
   "source": [
    "df = df.drop('Unnamed: 0',axis=1)"
   ]
  },
  {
   "cell_type": "code",
   "execution_count": null,
   "metadata": {},
   "outputs": [],
   "source": [
    "#把鄉鎮市區這個欄位復原\n",
    "ad = []\n",
    "for i in tqdm(range(len(df))):\n",
    "    for j in df.columns[9:38]:\n",
    "        if df[j][i] == 1:\n",
    "            ad.append(j)\n",
    "\n",
    "df['鄉鎮市區'] = ad"
   ]
  },
  {
   "cell_type": "code",
   "execution_count": 23,
   "metadata": {},
   "outputs": [],
   "source": [
    "egg = df.groupby('鄉鎮市區')['單價(元/平方公尺)'].median()"
   ]
  },
  {
   "cell_type": "code",
   "execution_count": 21,
   "metadata": {},
   "outputs": [],
   "source": [
    "en = egg.index\n",
    "ev = egg.values\n",
    "\n",
    "egg_dic = dict(zip(en,ev))"
   ]
  },
  {
   "cell_type": "code",
   "execution_count": 39,
   "metadata": {},
   "outputs": [],
   "source": [
    "egg_out = [] #外環\n",
    "egg_in = [] #內環\n",
    "egg_mid = [] #中環\n",
    "for i in en:\n",
    "    if egg_dic[i] < 50000:\n",
    "        egg_out.append(i)\n",
    "    elif egg_dic[i] >= 70000:\n",
    "        egg_in.append(i)\n",
    "    else:\n",
    "        egg_mid.append(i)"
   ]
  },
  {
   "cell_type": "code",
   "execution_count": 45,
   "metadata": {},
   "outputs": [],
   "source": [
    "eo=[]\n",
    "em=[]\n",
    "ei=[]\n",
    "for i in df['鄉鎮市區']:\n",
    "    if i in egg_out:\n",
    "        eo.append(1)\n",
    "    else:\n",
    "        eo.append(0)\n",
    "    if i in egg_in:\n",
    "        ei.append(1)\n",
    "    else:\n",
    "        ei.append(0)\n",
    "    if i in egg_mid:\n",
    "        em.append(1)\n",
    "    else:\n",
    "        em.append(0)"
   ]
  },
  {
   "cell_type": "code",
   "execution_count": 49,
   "metadata": {},
   "outputs": [],
   "source": [
    "df['egg_out'] = eo\n",
    "df['egg_in'] = ei\n",
    "df['egg_mid'] = em"
   ]
  },
  {
   "cell_type": "code",
   "execution_count": 50,
   "metadata": {},
   "outputs": [],
   "source": [
    "df = df.drop('鄉鎮市區',axis=1)"
   ]
  },
  {
   "cell_type": "code",
   "execution_count": 51,
   "metadata": {},
   "outputs": [],
   "source": [
    "df.to_csv('final_plus_egg.csv', index = False)"
   ]
  },
  {
   "cell_type": "code",
   "execution_count": null,
   "metadata": {},
   "outputs": [],
   "source": []
  }
 ],
 "metadata": {
  "kernelspec": {
   "display_name": "Python 3",
   "language": "python",
   "name": "python3"
  },
  "language_info": {
   "codemirror_mode": {
    "name": "ipython",
    "version": 3
   },
   "file_extension": ".py",
   "mimetype": "text/x-python",
   "name": "python",
   "nbconvert_exporter": "python",
   "pygments_lexer": "ipython3",
   "version": "3.6.3"
  }
 },
 "nbformat": 4,
 "nbformat_minor": 2
}

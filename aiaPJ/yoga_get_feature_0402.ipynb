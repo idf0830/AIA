{
 "cells": [
  {
   "cell_type": "markdown",
   "metadata": {},
   "source": [
    "## 交集面積算法"
   ]
  },
  {
   "cell_type": "code",
   "execution_count": 1,
   "metadata": {},
   "outputs": [],
   "source": [
    "import pandas as pd\n",
    "import shapefile\n",
    "import matplotlib.pyplot as plt\n",
    "from tqdm import tqdm_notebook as tqdm\n",
    "import geopandas as gp\n",
    "from shapely.geometry import Point\n",
    "from scipy.spatial import distance"
   ]
  },
  {
   "cell_type": "code",
   "execution_count": 2,
   "metadata": {},
   "outputs": [],
   "source": [
    "#先讀feature_engineering_example裡的資料\n",
    "df1 = pd.read_excel('/projectdata/nckugeo01/feature_engineering_example/Dali_completed.xls')"
   ]
  },
  {
   "cell_type": "code",
   "execution_count": 3,
   "metadata": {},
   "outputs": [
    {
     "data": {
      "text/html": [
       "<div>\n",
       "<table border=\"1\" class=\"dataframe\">\n",
       "  <thead>\n",
       "    <tr style=\"text-align: right;\">\n",
       "      <th></th>\n",
       "      <th>FID</th>\n",
       "      <th>鄉鎮市</th>\n",
       "      <th>Response_A</th>\n",
       "      <th>總價元</th>\n",
       "      <th>建物現況_房</th>\n",
       "      <th>建物現況_廳</th>\n",
       "      <th>建物現況_衛</th>\n",
       "      <th>Trans_P</th>\n",
       "      <th>Dali_AllRe</th>\n",
       "      <th>Dali_ComRe</th>\n",
       "      <th>...</th>\n",
       "      <th>Dali_Indus</th>\n",
       "      <th>Dali_MixRe</th>\n",
       "      <th>Dali_Pure</th>\n",
       "      <th>Dali_Resta</th>\n",
       "      <th>Dali_Popul</th>\n",
       "      <th>Dali_Major</th>\n",
       "      <th>Dali_Local</th>\n",
       "      <th>Convi_Dis</th>\n",
       "      <th>Trans_Dis</th>\n",
       "      <th>Resta_Dis</th>\n",
       "    </tr>\n",
       "  </thead>\n",
       "  <tbody>\n",
       "    <tr>\n",
       "      <th>0</th>\n",
       "      <td>0</td>\n",
       "      <td>大里區</td>\n",
       "      <td>臺中市大里區內新里19鄰新平街15號</td>\n",
       "      <td>2700000</td>\n",
       "      <td>3</td>\n",
       "      <td>2</td>\n",
       "      <td>2</td>\n",
       "      <td>22</td>\n",
       "      <td>3.830104e+06</td>\n",
       "      <td>761116.537466</td>\n",
       "      <td>...</td>\n",
       "      <td>115261.24915</td>\n",
       "      <td>876377.786616</td>\n",
       "      <td>2.923485e+06</td>\n",
       "      <td>71</td>\n",
       "      <td>150379</td>\n",
       "      <td>3905.930902</td>\n",
       "      <td>82270.796875</td>\n",
       "      <td>129.718167</td>\n",
       "      <td>394.936176</td>\n",
       "      <td>358.544926</td>\n",
       "    </tr>\n",
       "  </tbody>\n",
       "</table>\n",
       "<p>1 rows × 22 columns</p>\n",
       "</div>"
      ],
      "text/plain": [
       "   FID  鄉鎮市          Response_A      總價元  建物現況_房  建物現況_廳  建物現況_衛  Trans_P  \\\n",
       "0    0  大里區  臺中市大里區內新里19鄰新平街15號  2700000       3       2       2       22   \n",
       "\n",
       "     Dali_AllRe     Dali_ComRe     ...        Dali_Indus     Dali_MixRe  \\\n",
       "0  3.830104e+06  761116.537466     ...      115261.24915  876377.786616   \n",
       "\n",
       "      Dali_Pure  Dali_Resta  Dali_Popul   Dali_Major    Dali_Local  \\\n",
       "0  2.923485e+06          71      150379  3905.930902  82270.796875   \n",
       "\n",
       "    Convi_Dis   Trans_Dis   Resta_Dis  \n",
       "0  129.718167  394.936176  358.544926  \n",
       "\n",
       "[1 rows x 22 columns]"
      ]
     },
     "execution_count": 3,
     "metadata": {},
     "output_type": "execute_result"
    }
   ],
   "source": [
    "#找一筆測試看看\n",
    "t = df1[:1]\n",
    "t"
   ]
  },
  {
   "cell_type": "code",
   "execution_count": 6,
   "metadata": {},
   "outputs": [],
   "source": [
    "#去實價登錄裡面找同一個物件\n",
    "df2 = pd.read_excel('/projectdata/nckugeo01/實價登錄資料.xls')"
   ]
  },
  {
   "cell_type": "code",
   "execution_count": 7,
   "metadata": {},
   "outputs": [
    {
     "data": {
      "text/html": [
       "<div>\n",
       "<table border=\"1\" class=\"dataframe\">\n",
       "  <thead>\n",
       "    <tr style=\"text-align: right;\">\n",
       "      <th></th>\n",
       "      <th>鄉鎮市區</th>\n",
       "      <th>交易標的</th>\n",
       "      <th>土地區段位置或建物區門牌</th>\n",
       "      <th>Last unit</th>\n",
       "      <th>RESULT</th>\n",
       "      <th>REMOVE 號</th>\n",
       "      <th>AVG</th>\n",
       "      <th>門牌</th>\n",
       "      <th>Response_Address</th>\n",
       "      <th>Response_X</th>\n",
       "      <th>...</th>\n",
       "      <th>建物現況格局-衛</th>\n",
       "      <th>建物現況格局-隔間</th>\n",
       "      <th>有無管理組織</th>\n",
       "      <th>總價元</th>\n",
       "      <th>單價每平方公尺</th>\n",
       "      <th>車位類別</th>\n",
       "      <th>車位移轉總面積平方公尺</th>\n",
       "      <th>車位總價元</th>\n",
       "      <th>備註</th>\n",
       "      <th>編號</th>\n",
       "    </tr>\n",
       "  </thead>\n",
       "  <tbody>\n",
       "    <tr>\n",
       "      <th>31</th>\n",
       "      <td>大里區</td>\n",
       "      <td>房地(土地+建物)</td>\n",
       "      <td>臺中市大里區新平街1~30號</td>\n",
       "      <td>街</td>\n",
       "      <td>1~30號</td>\n",
       "      <td>1~30</td>\n",
       "      <td>15.5</td>\n",
       "      <td>臺中市大里區新平街16號</td>\n",
       "      <td>臺中市大里區內新里19鄰新平街15號</td>\n",
       "      <td>218890.91</td>\n",
       "      <td>...</td>\n",
       "      <td>2</td>\n",
       "      <td>有</td>\n",
       "      <td>無</td>\n",
       "      <td>2700000</td>\n",
       "      <td>40323.0</td>\n",
       "      <td>NaN</td>\n",
       "      <td>0.0</td>\n",
       "      <td>0</td>\n",
       "      <td>NaN</td>\n",
       "      <td>RPROMLMJNHMFFGL09CA</td>\n",
       "    </tr>\n",
       "  </tbody>\n",
       "</table>\n",
       "<p>1 rows × 37 columns</p>\n",
       "</div>"
      ],
      "text/plain": [
       "   鄉鎮市區       交易標的    土地區段位置或建物區門牌 Last unit RESULT REMOVE 號   AVG  \\\n",
       "31  大里區  房地(土地+建物)  臺中市大里區新平街1~30號         街  1~30號     1~30  15.5   \n",
       "\n",
       "              門牌    Response_Address  Response_X         ...           \\\n",
       "31  臺中市大里區新平街16號  臺中市大里區內新里19鄰新平街15號   218890.91         ...            \n",
       "\n",
       "    建物現況格局-衛  建物現況格局-隔間  有無管理組織      總價元  單價每平方公尺 車位類別  車位移轉總面積平方公尺 車位總價元  \\\n",
       "31         2          有       無  2700000  40323.0  NaN          0.0     0   \n",
       "\n",
       "     備註                   編號  \n",
       "31  NaN  RPROMLMJNHMFFGL09CA  \n",
       "\n",
       "[1 rows x 37 columns]"
      ]
     },
     "execution_count": 7,
     "metadata": {},
     "output_type": "execute_result"
    }
   ],
   "source": [
    "df2[df2['Response_Address'] == '臺中市大里區內新里19鄰新平街15號']"
   ]
  },
  {
   "cell_type": "code",
   "execution_count": 4,
   "metadata": {},
   "outputs": [],
   "source": [
    "#讀取 Landuse_area 裡面的 Commercial_Res(兼商業使用住宅)\n",
    "area = gp.GeoDataFrame.from_file('/projectdata/nckugeo01/Landuse_area/Commercial_Res.shp')"
   ]
  },
  {
   "cell_type": "code",
   "execution_count": 5,
   "metadata": {},
   "outputs": [
    {
     "data": {
      "text/plain": [
       "Index(['ID', 'LCODE_C1', 'LCODE_C2', 'LCODE_C3', 'METHOD', 'DATATIME',\n",
       "       'IMTIME_F', 'IMTIME_T', 'ShpName', 'Mddi_org', 'area', 'geometry'],\n",
       "      dtype='object')"
      ]
     },
     "execution_count": 5,
     "metadata": {},
     "output_type": "execute_result"
    }
   ],
   "source": [
    "#裡面的 geometry 這個 column 記錄了該商用住宅的範圍\n",
    "area.columns"
   ]
  },
  {
   "cell_type": "code",
   "execution_count": 6,
   "metadata": {},
   "outputs": [
    {
     "data": {
      "image/svg+xml": [
       "<svg xmlns=\"http://www.w3.org/2000/svg\" xmlns:xlink=\"http://www.w3.org/1999/xlink\" width=\"100.0\" height=\"100.0\" viewBox=\"199949.3871449535 2677318.444933508 19.936995999887586 24.282395999878645\" preserveAspectRatio=\"xMinYMin meet\"><g transform=\"matrix(1,0,0,-1,0,5354661.172263016)\"><path fill-rule=\"evenodd\" fill=\"#66cc99\" stroke=\"#555555\" stroke-width=\"0.4856479199975729\" opacity=\"0.6\" d=\"M 199966.1373929535,2677338.7635815083 L 199968.42479295342,2677338.116081508 L 199967.5233929535,2677332.7989815082 L 199965.8932929535,2677329.540681508 L 199962.94039295352,2677319.344281508 L 199950.28649295348,2677320.8666815083 L 199955.31279295345,2677341.827981508 L 199966.1373929535,2677338.7635815083 z\" /></g></svg>"
      ],
      "text/plain": [
       "<shapely.geometry.polygon.Polygon at 0x7f98773875c0>"
      ]
     },
     "execution_count": 6,
     "metadata": {},
     "output_type": "execute_result"
    }
   ],
   "source": [
    "#裡面的資料為 polygon 的物件\n",
    "#x, y = area.geometry[0].exterior.coords.xy 記錄一下拿 point 的方法\n",
    "area.geometry[0]"
   ]
  },
  {
   "cell_type": "code",
   "execution_count": 7,
   "metadata": {},
   "outputs": [
    {
     "data": {
      "image/svg+xml": [
       "<svg xmlns=\"http://www.w3.org/2000/svg\" xmlns:xlink=\"http://www.w3.org/1999/xlink\" width=\"300\" height=\"300\" viewBox=\"216730.91 2664827.36 4320.0 4320.0\" preserveAspectRatio=\"xMinYMin meet\"><g transform=\"matrix(1,0,0,-1,0,5333974.72)\"><path fill-rule=\"evenodd\" fill=\"#66cc99\" stroke=\"#555555\" stroke-width=\"28.8\" opacity=\"0.6\" d=\"M 220890.91,2666987.36 L 220881.2794533444,2666791.3257193407 L 220852.48056080646,2666597.179355968 L 220804.79067146443,2666406.790645491 L 220738.66906502258,2666221.9931352697 L 220654.75252869673,2666044.566526348 L 220553.8492246051,2665876.219533961 L 220436.93090672547,2665718.5734316725 L 220305.1235623731,2665573.146437627 L 220159.6965683273,2665441.3390932744 L 220002.05046603922,2665324.420775395 L 219833.703473652,2665223.517471303 L 219656.27686473017,2665139.600934977 L 219471.47935450892,2665073.4793285355 L 219281.09064403226,2665025.7894391934 L 219086.94428065914,2664996.9905466554 L 218890.91,2664987.36 L 218694.8757193409,2664996.9905466554 L 218500.72935596775,2665025.7894391934 L 218310.3406454911,2665073.4793285355 L 218125.54313526984,2665139.600934977 L 217948.11652634802,2665223.517471303 L 217779.7695339608,2665324.420775395 L 217622.12343167272,2665441.3390932744 L 217476.6964376269,2665573.146437627 L 217344.88909327454,2665718.5734316725 L 217227.9707753949,2665876.219533961 L 217127.0674713033,2666044.566526348 L 217043.15093497743,2666221.9931352697 L 216977.02932853557,2666406.790645491 L 216929.33943919354,2666597.179355968 L 216900.5405466556,2666791.3257193407 L 216890.91,2666987.36 L 216900.5405466556,2667183.394280659 L 216929.33943919354,2667377.540644032 L 216977.02932853557,2667567.929354509 L 217043.15093497743,2667752.72686473 L 217127.06747130328,2667930.153473652 L 217227.9707753949,2668098.500466039 L 217344.88909327454,2668256.146568327 L 217476.6964376269,2668401.573562373 L 217622.12343167272,2668533.3809067253 L 217779.7695339608,2668650.299224605 L 217948.116526348,2668751.2025286965 L 218125.5431352698,2668835.1190650226 L 218310.3406454911,2668901.2406714642 L 218500.72935596775,2668948.9305608063 L 218694.87571934087,2668977.7294533444 L 218890.91,2668987.36 L 219086.9442806591,2668977.7294533444 L 219281.09064403226,2668948.9305608063 L 219471.47935450892,2668901.2406714642 L 219656.27686473017,2668835.1190650226 L 219833.70347365199,2668751.2025286965 L 220002.0504660392,2668650.299224605 L 220159.6965683273,2668533.3809067253 L 220305.1235623731,2668401.573562373 L 220436.93090672547,2668256.146568327 L 220553.84922460507,2668098.500466039 L 220654.7525286967,2667930.153473652 L 220738.66906502258,2667752.72686473 L 220804.7906714644,2667567.929354509 L 220852.48056080646,2667377.540644032 L 220881.2794533444,2667183.394280659 L 220890.91,2666987.36 z\" /></g></svg>"
      ],
      "text/plain": [
       "<shapely.geometry.polygon.Polygon at 0x7f9877391358>"
      ]
     },
     "execution_count": 7,
     "metadata": {},
     "output_type": "execute_result"
    }
   ],
   "source": [
    "a = Point(218890.91, 2666987.36).buffer(2000) #這個物件的 Response_X 及 Response_Y 以 2000 公尺畫圓\n",
    "a"
   ]
  },
  {
   "cell_type": "code",
   "execution_count": 8,
   "metadata": {},
   "outputs": [
    {
     "data": {
      "application/vnd.jupyter.widget-view+json": {
       "model_id": "885f885fe9924301a1d51a2d5e65b857",
       "version_major": 2,
       "version_minor": 0
      },
      "text/html": [
       "<p>Failed to display Jupyter Widget of type <code>HBox</code>.</p>\n",
       "<p>\n",
       "  If you're reading this message in the Jupyter Notebook or JupyterLab Notebook, it may mean\n",
       "  that the widgets JavaScript is still loading. If this message persists, it\n",
       "  likely means that the widgets JavaScript library is either not installed or\n",
       "  not enabled. See the <a href=\"https://ipywidgets.readthedocs.io/en/stable/user_install.html\">Jupyter\n",
       "  Widgets Documentation</a> for setup instructions.\n",
       "</p>\n",
       "<p>\n",
       "  If you're reading this message in another frontend (for example, a static\n",
       "  rendering on GitHub or <a href=\"https://nbviewer.jupyter.org/\">NBViewer</a>),\n",
       "  it may mean that your frontend doesn't currently support widgets.\n",
       "</p>\n"
      ],
      "text/plain": [
       "HBox(children=(IntProgress(value=0, max=34549), HTML(value='')))"
      ]
     },
     "metadata": {},
     "output_type": "display_data"
    },
    {
     "name": "stdout",
     "output_type": "stream",
     "text": [
      "\n",
      "total area by calculate: 760202.8176593131\n",
      "total area in feature_engineering_example: 761116.537466\n"
     ]
    }
   ],
   "source": [
    "d = 0 #最後要計算總面積用的\n",
    "for i in tqdm(range(len(area.geometry))):\n",
    "    b = area.geometry[i]\n",
    "    c = a.intersection(b)\n",
    "    d += c.area\n",
    "print('total area by calculate: '+str(d))\n",
    "print('total area in feature_engineering_example: '+str(t.Dali_ComRe[0]))"
   ]
  },
  {
   "cell_type": "markdown",
   "metadata": {},
   "source": [
    "## 範圍內含有的POI\n",
    "- 用便利商店當範例"
   ]
  },
  {
   "cell_type": "code",
   "execution_count": 9,
   "metadata": {},
   "outputs": [],
   "source": [
    "#讀 POI 的檔近來\n",
    "df3 = pd.read_excel('/projectdata/nckugeo01/POI_list.xlsx')"
   ]
  },
  {
   "cell_type": "code",
   "execution_count": 12,
   "metadata": {},
   "outputs": [],
   "source": [
    "#找便利商店出來\n",
    "p = df3[df3.地標大分類 == '24小時生活便利連鎖商店']\n",
    "p = p.reset_index()"
   ]
  },
  {
   "cell_type": "code",
   "execution_count": 13,
   "metadata": {},
   "outputs": [],
   "source": [
    "#同樣用上面那個標的\n",
    "a = Point(218890.91, 2666987.36).buffer(2000)"
   ]
  },
  {
   "cell_type": "code",
   "execution_count": 14,
   "metadata": {},
   "outputs": [
    {
     "data": {
      "application/vnd.jupyter.widget-view+json": {
       "model_id": "742e86c5e4c641aba9735133ce8b6925",
       "version_major": 2,
       "version_minor": 0
      },
      "text/html": [
       "<p>Failed to display Jupyter Widget of type <code>HBox</code>.</p>\n",
       "<p>\n",
       "  If you're reading this message in the Jupyter Notebook or JupyterLab Notebook, it may mean\n",
       "  that the widgets JavaScript is still loading. If this message persists, it\n",
       "  likely means that the widgets JavaScript library is either not installed or\n",
       "  not enabled. See the <a href=\"https://ipywidgets.readthedocs.io/en/stable/user_install.html\">Jupyter\n",
       "  Widgets Documentation</a> for setup instructions.\n",
       "</p>\n",
       "<p>\n",
       "  If you're reading this message in another frontend (for example, a static\n",
       "  rendering on GitHub or <a href=\"https://nbviewer.jupyter.org/\">NBViewer</a>),\n",
       "  it may mean that your frontend doesn't currently support widgets.\n",
       "</p>\n"
      ],
      "text/plain": [
       "HBox(children=(IntProgress(value=0, max=936), HTML(value='')))"
      ]
     },
     "metadata": {},
     "output_type": "display_data"
    },
    {
     "name": "stdout",
     "output_type": "stream",
     "text": [
      "\n",
      "numbers of convenience store by calculate: 66\n",
      "numbers of convenience store in feature_engineering_example: 66\n"
     ]
    }
   ],
   "source": [
    "count = 0 #用來數有幾間店\n",
    "for i in tqdm(range(len(p))):\n",
    "    point = Point(p.X坐標[i],p.Y坐標[i])\n",
    "    if a.contains(point):\n",
    "        count+=1\n",
    "print('numbers of convenience store by calculate: '+str(count))\n",
    "print('numbers of convenience store in feature_engineering_example: '+str(t.Dali_Convi[0]))"
   ]
  },
  {
   "cell_type": "markdown",
   "metadata": {},
   "source": [
    "## 距離最近的POI\n",
    "- 還是用便利商店當範例\n",
    "- 這邊有 import 一個 scipy.spatial 裡面的 distance class (在最上面）"
   ]
  },
  {
   "cell_type": "code",
   "execution_count": 15,
   "metadata": {},
   "outputs": [],
   "source": [
    "#用同樣上面的標的，但這次不用畫圈圈（ya）\n",
    "ap = (218890.91, 2666987.36)"
   ]
  },
  {
   "cell_type": "code",
   "execution_count": 17,
   "metadata": {},
   "outputs": [
    {
     "data": {
      "application/vnd.jupyter.widget-view+json": {
       "model_id": "fe7f7a7e160b47c687d439e5ffb380e4",
       "version_major": 2,
       "version_minor": 0
      },
      "text/html": [
       "<p>Failed to display Jupyter Widget of type <code>HBox</code>.</p>\n",
       "<p>\n",
       "  If you're reading this message in the Jupyter Notebook or JupyterLab Notebook, it may mean\n",
       "  that the widgets JavaScript is still loading. If this message persists, it\n",
       "  likely means that the widgets JavaScript library is either not installed or\n",
       "  not enabled. See the <a href=\"https://ipywidgets.readthedocs.io/en/stable/user_install.html\">Jupyter\n",
       "  Widgets Documentation</a> for setup instructions.\n",
       "</p>\n",
       "<p>\n",
       "  If you're reading this message in another frontend (for example, a static\n",
       "  rendering on GitHub or <a href=\"https://nbviewer.jupyter.org/\">NBViewer</a>),\n",
       "  it may mean that your frontend doesn't currently support widgets.\n",
       "</p>\n"
      ],
      "text/plain": [
       "HBox(children=(IntProgress(value=0, max=936), HTML(value='')))"
      ]
     },
     "metadata": {},
     "output_type": "display_data"
    },
    {
     "name": "stdout",
     "output_type": "stream",
     "text": [
      "\n",
      "distance between nearset convenience store by calculate: 129.7177935563325\n",
      "distance between nearset convenience store in feature_engineering_example: 129.718166922\n"
     ]
    }
   ],
   "source": [
    "for i in tqdm(range(len(p))):\n",
    "    point = (p.X坐標[i],p.Y坐標[i])\n",
    "    #一筆一筆對，如果是第一筆，就先塞給 min_d\n",
    "    if i == 0:\n",
    "        min_d = distance.euclidean(ap,point)\n",
    "        \n",
    "    #接下來如果有看到更小的 distance，就更新 min_d\n",
    "    elif min_d > distance.euclidean(ap,point):\n",
    "        min_d = distance.euclidean(ap,point)\n",
    "print('distance between nearset convenience store by calculate: '+str(min_d))\n",
    "print('distance between nearset convenience store in feature_engineering_example: '+str(t.Convi_Dis[0]))"
   ]
  },
  {
   "cell_type": "markdown",
   "metadata": {},
   "source": [
    "## 人口\n",
    "- 跑的時間比較久，可能有其他方法\n",
    "- 與實際值的差異有點大，先看看座標轉換有沒有辦法解決"
   ]
  },
  {
   "cell_type": "code",
   "execution_count": 28,
   "metadata": {},
   "outputs": [],
   "source": [
    "#先把人口資料讀進來\n",
    "people = gp.GeoDataFrame.from_file('/projectdata/nckugeo01/人口_最小統計區/population_最小統計.shp')"
   ]
  },
  {
   "cell_type": "code",
   "execution_count": 29,
   "metadata": {},
   "outputs": [
    {
     "data": {
      "text/plain": [
       "Index(['U_ID', 'CODEBASE', 'CODE1', 'CODE2', 'VILLCODE', 'VILLAGE_ID',\n",
       "       'VILLAGE', 'TOWN_ID', 'TOWN', 'COUNTY_ID', 'COUNTY', 'USE_CODE', 'LINE',\n",
       "       'SPECODE', 'X', 'Y', 'AREA', 'M', 'USECODE', 'INFO_TIME', 'CODE2_1',\n",
       "       'CODE1_1', 'CODEBASE_1', 'P_CNT', 'geometry'],\n",
       "      dtype='object')"
      ]
     },
     "execution_count": 29,
     "metadata": {},
     "output_type": "execute_result"
    }
   ],
   "source": [
    "#裡面的 geometry 這個 column 記錄了統計的區域，P_CNT 為該區統計出的人數\n",
    "people.columns"
   ]
  },
  {
   "cell_type": "code",
   "execution_count": 48,
   "metadata": {},
   "outputs": [
    {
     "data": {
      "application/vnd.jupyter.widget-view+json": {
       "model_id": "2a854b638ca64882943f55ebb98de670",
       "version_major": 2,
       "version_minor": 0
      },
      "text/html": [
       "<p>Failed to display Jupyter Widget of type <code>HBox</code>.</p>\n",
       "<p>\n",
       "  If you're reading this message in the Jupyter Notebook or JupyterLab Notebook, it may mean\n",
       "  that the widgets JavaScript is still loading. If this message persists, it\n",
       "  likely means that the widgets JavaScript library is either not installed or\n",
       "  not enabled. See the <a href=\"https://ipywidgets.readthedocs.io/en/stable/user_install.html\">Jupyter\n",
       "  Widgets Documentation</a> for setup instructions.\n",
       "</p>\n",
       "<p>\n",
       "  If you're reading this message in another frontend (for example, a static\n",
       "  rendering on GitHub or <a href=\"https://nbviewer.jupyter.org/\">NBViewer</a>),\n",
       "  it may mean that your frontend doesn't currently support widgets.\n",
       "</p>\n"
      ],
      "text/plain": [
       "HBox(children=(IntProgress(value=0, max=17218), HTML(value='')))"
      ]
     },
     "metadata": {},
     "output_type": "display_data"
    },
    {
     "name": "stdout",
     "output_type": "stream",
     "text": [
      "\n",
      "population by calculate: 157432.457144\n",
      "population in feature_engineering_example: 150379\n"
     ]
    }
   ],
   "source": [
    "popu = 0 #最後要計算人口的\n",
    "a = Point(218890.91, 2666987.36).buffer(2000)\n",
    "for i in tqdm(range(len(people.geometry))):\n",
    "    b = people.geometry[i]\n",
    "    c = a.intersection(b)\n",
    "    rate = c.area / b.area #涵蓋該區的比率\n",
    "    popu += (people.P_CNT[i] * rate)\n",
    "print('population by calculate: '+str(popu))\n",
    "print('population in feature_engineering_example: '+str(t.Dali_Popul[0]))"
   ]
  },
  {
   "cell_type": "markdown",
   "metadata": {},
   "source": [
    "## 區域內道路長\n",
    "- 以主要道路為例子\n",
    "- 與實際值差異也有點大，同樣看座標能不能解決"
   ]
  },
  {
   "cell_type": "code",
   "execution_count": 9,
   "metadata": {},
   "outputs": [],
   "source": [
    "#先讀資料進來\n",
    "r = shapefile.Reader(\"/projectdata/nckugeo01/道路_length/Major_road.sbn\")"
   ]
  },
  {
   "cell_type": "code",
   "execution_count": 10,
   "metadata": {},
   "outputs": [],
   "source": [
    "shapes = r.shapes()"
   ]
  },
  {
   "cell_type": "code",
   "execution_count": 11,
   "metadata": {},
   "outputs": [
    {
     "data": {
      "text/plain": [
       "<shapefile._Shape at 0x7fac0fcdcef0>"
      ]
     },
     "execution_count": 11,
     "metadata": {},
     "output_type": "execute_result"
    }
   ],
   "source": [
    "shapes[0]"
   ]
  },
  {
   "cell_type": "code",
   "execution_count": 14,
   "metadata": {},
   "outputs": [
    {
     "data": {
      "application/vnd.jupyter.widget-view+json": {
       "model_id": "1b14a591de564d8fad33259f71364987",
       "version_major": 2,
       "version_minor": 0
      },
      "text/html": [
       "<p>Failed to display Jupyter Widget of type <code>HBox</code>.</p>\n",
       "<p>\n",
       "  If you're reading this message in the Jupyter Notebook or JupyterLab Notebook, it may mean\n",
       "  that the widgets JavaScript is still loading. If this message persists, it\n",
       "  likely means that the widgets JavaScript library is either not installed or\n",
       "  not enabled. See the <a href=\"https://ipywidgets.readthedocs.io/en/stable/user_install.html\">Jupyter\n",
       "  Widgets Documentation</a> for setup instructions.\n",
       "</p>\n",
       "<p>\n",
       "  If you're reading this message in another frontend (for example, a static\n",
       "  rendering on GitHub or <a href=\"https://nbviewer.jupyter.org/\">NBViewer</a>),\n",
       "  it may mean that your frontend doesn't currently support widgets.\n",
       "</p>\n"
      ],
      "text/plain": [
       "HBox(children=(IntProgress(value=0, max=3032), HTML(value='')))"
      ]
     },
     "metadata": {},
     "output_type": "display_data"
    },
    {
     "name": "stdout",
     "output_type": "stream",
     "text": [
      "\n",
      "length by calculate: 3738.910193909505\n",
      "length in feature_engineering_example: 3905.93090221\n"
     ]
    }
   ],
   "source": [
    "leng = 0\n",
    "a = Point(218890.91, 2666987.36).buffer(2000)\n",
    "for i in tqdm(range(len(shapes))):\n",
    "    point_min = Point(shapes[i].bbox[0],shapes[i].bbox[1])\n",
    "    point_max = Point(shapes[i].bbox[2],shapes[i].bbox[3])\n",
    "    \n",
    "    if a.contains(point_min) & a.contains(point_max):\n",
    "        leng+=r.records()[i][-1]\n",
    "        \n",
    "    elif a.contains(point_min):\n",
    "        point_a = []\n",
    "        for j in shapes[i].points:\n",
    "            point = Point(j)\n",
    "            if a.contains(point):\n",
    "                point_a.append(j)\n",
    "            if len(point_a)>1:\n",
    "                for k in range(len(point_a)-1):\n",
    "                    leng += distance.euclidean(point_a[k],point_a[k+1]) \n",
    "\n",
    "    elif a.contains(point_max):\n",
    "        point_a = []\n",
    "        for j in shapes[i].points:\n",
    "            point = Point(j)\n",
    "            if a.contains(point):\n",
    "                point_a.append(j)\n",
    "            if len(point_a)>1:\n",
    "                for k in range(len(point)-1):\n",
    "                    leng += distance.euclidean(point_a[k],point_a[k+1]) \n",
    "    else:\n",
    "        point_min_sp = Point(shapes[i].bbox[2],shapes[i].bbox[1])\n",
    "        if a.contains(point_min_sp):\n",
    "            print('in else')\n",
    "            point_a = []\n",
    "            for j in shapes[i].points:\n",
    "                point = Point(j)\n",
    "                if a.contains(point):\n",
    "                    point_a.append(j)\n",
    "                if len(point_a)>1:\n",
    "                    for k in range(len(point)-1):\n",
    "                        leng += distance.euclidean(point_a[k],point_a[k+1])\n",
    "                    \n",
    "print('length by calculate: '+str(leng))\n",
    "print('length in feature_engineering_example: '+str(t.Dali_Major[0]))"
   ]
  },
  {
   "cell_type": "code",
   "execution_count": 45,
   "metadata": {},
   "outputs": [
    {
     "data": {
      "application/vnd.jupyter.widget-view+json": {
       "model_id": "1a13cc071ef948f296bb7f24dd04ab10",
       "version_major": 2,
       "version_minor": 0
      },
      "text/html": [
       "<p>Failed to display Jupyter Widget of type <code>HBox</code>.</p>\n",
       "<p>\n",
       "  If you're reading this message in the Jupyter Notebook or JupyterLab Notebook, it may mean\n",
       "  that the widgets JavaScript is still loading. If this message persists, it\n",
       "  likely means that the widgets JavaScript library is either not installed or\n",
       "  not enabled. See the <a href=\"https://ipywidgets.readthedocs.io/en/stable/user_install.html\">Jupyter\n",
       "  Widgets Documentation</a> for setup instructions.\n",
       "</p>\n",
       "<p>\n",
       "  If you're reading this message in another frontend (for example, a static\n",
       "  rendering on GitHub or <a href=\"https://nbviewer.jupyter.org/\">NBViewer</a>),\n",
       "  it may mean that your frontend doesn't currently support widgets.\n",
       "</p>\n"
      ],
      "text/plain": [
       "HBox(children=(IntProgress(value=0, max=3032), HTML(value='')))"
      ]
     },
     "metadata": {},
     "output_type": "display_data"
    },
    {
     "name": "stdout",
     "output_type": "stream",
     "text": [
      "LINESTRING (217404.9499997826 2668334.359997332, 217404.9099997826 2668315.859997332)\n",
      "LINESTRING (218897.3822382774 2664985.539647516, 218885.4702382774 2664998.237447516)\n",
      "\n",
      "length by calculate: 3902.1851060498047\n",
      "length in feature_engineering_example: 3905.93090221\n"
     ]
    }
   ],
   "source": [
    "leng = 0\n",
    "a = Point(218890.91, 2666987.36).buffer(2000)\n",
    "for i in tqdm(range(len(shapes))):\n",
    "    for j in range(len(shapes[i].points)-1):\n",
    "        point = Point(shapes[i].points[j])\n",
    "        point2 = Point(shapes[i].points[j+1])\n",
    "        if a.contains(point) & a.contains(point2):\n",
    "            line = LineString([point, point2])\n",
    "            #leng += distance.euclidean(point,point2) \n",
    "            leng += line.length\n",
    "        elif a.contains(point):\n",
    "            line = LineString([point, point2])\n",
    "            leng += line.intersection(a).length\n",
    "        elif a.contains(point2):\n",
    "            line = LineString([point, point2])\n",
    "            print(line)\n",
    "            leng += line.intersection(a).length\n",
    "\n",
    "print('length by calculate: '+str(leng))\n",
    "print('length in feature_engineering_example: '+str(t.Dali_Major[0]))"
   ]
  },
  {
   "cell_type": "code",
   "execution_count": null,
   "metadata": {},
   "outputs": [],
   "source": []
  }
 ],
 "metadata": {
  "kernelspec": {
   "display_name": "Python 3",
   "language": "python",
   "name": "python3"
  },
  "language_info": {
   "codemirror_mode": {
    "name": "ipython",
    "version": 3
   },
   "file_extension": ".py",
   "mimetype": "text/x-python",
   "name": "python",
   "nbconvert_exporter": "python",
   "pygments_lexer": "ipython3",
   "version": "3.6.3"
  }
 },
 "nbformat": 4,
 "nbformat_minor": 2
}

{
 "cells": [
  {
   "cell_type": "markdown",
   "metadata": {},
   "source": [
    "## 專題：成功大學測量所-房價預估\n",
    "## Landuse : Commercial_Res"
   ]
  },
  {
   "cell_type": "code",
   "execution_count": 1,
   "metadata": {},
   "outputs": [],
   "source": [
    "import pandas as pd\n",
    "import numpy as np\n",
    "import shapefile\n",
    "import matplotlib.pyplot as plt\n",
    "from tqdm import tqdm_notebook as tqdm\n",
    "import geopandas as gpd\n",
    "from shapely.geometry import Point\n",
    "from scipy.spatial import distance\n",
    "import os\n",
    "import re"
   ]
  },
  {
   "cell_type": "markdown",
   "metadata": {},
   "source": [
    "# 請先修改檔案路徑"
   ]
  },
  {
   "cell_type": "code",
   "execution_count": 2,
   "metadata": {},
   "outputs": [],
   "source": [
    "# 讀取檔案路徑設定\n",
    "path = '/Users/tc.chen/Documents/data_projncku/projectdata/nckugeo01/'\n",
    "Landuse = 'Landuse_area/'\n",
    "savefile = '/Users/tc.chen/Documents/data_projncku/projectdata/save/'"
   ]
  },
  {
   "cell_type": "markdown",
   "metadata": {},
   "source": [
    "### 查回資料  -- 請下載 hub 上的檔案\n",
    "Basic : tgos_80k.csv "
   ]
  },
  {
   "cell_type": "code",
   "execution_count": 3,
   "metadata": {},
   "outputs": [],
   "source": [
    "# 匯入新查回資料 並 篩選 Response_X有資料者\n",
    "Basic = pd.read_csv( path + 'tgos_80k.csv', index_col = 0)\n",
    "Basic = Basic[Basic['Response_X'].isnull() == False]"
   ]
  },
  {
   "cell_type": "code",
   "execution_count": 4,
   "metadata": {},
   "outputs": [
    {
     "data": {
      "text/html": [
       "<div>\n",
       "<style scoped>\n",
       "    .dataframe tbody tr th:only-of-type {\n",
       "        vertical-align: middle;\n",
       "    }\n",
       "\n",
       "    .dataframe tbody tr th {\n",
       "        vertical-align: top;\n",
       "    }\n",
       "\n",
       "    .dataframe thead th {\n",
       "        text-align: right;\n",
       "    }\n",
       "</style>\n",
       "<table border=\"1\" class=\"dataframe\">\n",
       "  <thead>\n",
       "    <tr style=\"text-align: right;\">\n",
       "      <th></th>\n",
       "      <th>index</th>\n",
       "      <th>鄉鎮市區</th>\n",
       "      <th>交易標的</th>\n",
       "      <th>土地區段位置/建物區段門牌</th>\n",
       "      <th>土地移轉總面積(平方公尺)</th>\n",
       "      <th>都市土地使用分區</th>\n",
       "      <th>非都市土地使用分區</th>\n",
       "      <th>非都市土地使用編定</th>\n",
       "      <th>交易年月日</th>\n",
       "      <th>交易筆棟數</th>\n",
       "      <th>...</th>\n",
       "      <th>備註</th>\n",
       "      <th>編號</th>\n",
       "      <th>登記日期</th>\n",
       "      <th>Address_x</th>\n",
       "      <th>id</th>\n",
       "      <th>Address_y</th>\n",
       "      <th>Response_Address</th>\n",
       "      <th>Response_X</th>\n",
       "      <th>Response_Y</th>\n",
       "      <th>csv_file_name</th>\n",
       "    </tr>\n",
       "    <tr>\n",
       "      <th>level_0</th>\n",
       "      <th></th>\n",
       "      <th></th>\n",
       "      <th></th>\n",
       "      <th></th>\n",
       "      <th></th>\n",
       "      <th></th>\n",
       "      <th></th>\n",
       "      <th></th>\n",
       "      <th></th>\n",
       "      <th></th>\n",
       "      <th></th>\n",
       "      <th></th>\n",
       "      <th></th>\n",
       "      <th></th>\n",
       "      <th></th>\n",
       "      <th></th>\n",
       "      <th></th>\n",
       "      <th></th>\n",
       "      <th></th>\n",
       "      <th></th>\n",
       "      <th></th>\n",
       "    </tr>\n",
       "  </thead>\n",
       "  <tbody>\n",
       "    <tr>\n",
       "      <th>0</th>\n",
       "      <td>0</td>\n",
       "      <td>南區</td>\n",
       "      <td>房地(土地+建物)</td>\n",
       "      <td>臺中市南區復興路二段31~60號</td>\n",
       "      <td>2.82</td>\n",
       "      <td>商</td>\n",
       "      <td>NaN</td>\n",
       "      <td>NaN</td>\n",
       "      <td>1061029</td>\n",
       "      <td>土地1建物1車位0</td>\n",
       "      <td>...</td>\n",
       "      <td>NaN</td>\n",
       "      <td>RPRPMLOKJIMFFAB57CA</td>\n",
       "      <td>2018S1</td>\n",
       "      <td>臺中市南區復興路二段46號</td>\n",
       "      <td>1.0</td>\n",
       "      <td>臺中市南區復興路二段46號</td>\n",
       "      <td>臺中市南區和平里3鄰復興路二段46號</td>\n",
       "      <td>215528.254</td>\n",
       "      <td>2668405.642</td>\n",
       "      <td>1.0</td>\n",
       "    </tr>\n",
       "    <tr>\n",
       "      <th>1</th>\n",
       "      <td>1</td>\n",
       "      <td>中區</td>\n",
       "      <td>房地(土地+建物)</td>\n",
       "      <td>臺中市中區成功路306巷1~30號</td>\n",
       "      <td>9.62</td>\n",
       "      <td>商</td>\n",
       "      <td>NaN</td>\n",
       "      <td>NaN</td>\n",
       "      <td>1061018</td>\n",
       "      <td>土地1建物2車位0</td>\n",
       "      <td>...</td>\n",
       "      <td>NaN</td>\n",
       "      <td>RPPNMLPKJIMFFAB27CA</td>\n",
       "      <td>2018S1</td>\n",
       "      <td>臺中市中區成功路306巷16號</td>\n",
       "      <td>2.0</td>\n",
       "      <td>臺中市中區成功路306巷16號</td>\n",
       "      <td>臺中市中區大誠里19鄰成功路306巷10號</td>\n",
       "      <td>217371.292</td>\n",
       "      <td>2671123.323</td>\n",
       "      <td>1.0</td>\n",
       "    </tr>\n",
       "  </tbody>\n",
       "</table>\n",
       "<p>2 rows × 37 columns</p>\n",
       "</div>"
      ],
      "text/plain": [
       "         index 鄉鎮市區       交易標的      土地區段位置/建物區段門牌  土地移轉總面積(平方公尺) 都市土地使用分區  \\\n",
       "level_0                                                                     \n",
       "0            0   南區  房地(土地+建物)   臺中市南區復興路二段31~60號           2.82        商   \n",
       "1            1   中區  房地(土地+建物)  臺中市中區成功路306巷1~30號           9.62        商   \n",
       "\n",
       "        非都市土地使用分區 非都市土地使用編定    交易年月日      交易筆棟數      ...         備註  \\\n",
       "level_0                                              ...              \n",
       "0             NaN       NaN  1061029  土地1建物1車位0      ...        NaN   \n",
       "1             NaN       NaN  1061018  土地1建物2車位0      ...        NaN   \n",
       "\n",
       "                          編號    登記日期        Address_x   id        Address_y  \\\n",
       "level_0                                                                       \n",
       "0        RPRPMLOKJIMFFAB57CA  2018S1    臺中市南區復興路二段46號  1.0    臺中市南區復興路二段46號   \n",
       "1        RPPNMLPKJIMFFAB27CA  2018S1  臺中市中區成功路306巷16號  2.0  臺中市中區成功路306巷16號   \n",
       "\n",
       "              Response_Address  Response_X   Response_Y  csv_file_name  \n",
       "level_0                                                                 \n",
       "0           臺中市南區和平里3鄰復興路二段46號  215528.254  2668405.642            1.0  \n",
       "1        臺中市中區大誠里19鄰成功路306巷10號  217371.292  2671123.323            1.0  \n",
       "\n",
       "[2 rows x 37 columns]"
      ]
     },
     "execution_count": 4,
     "metadata": {},
     "output_type": "execute_result"
    }
   ],
   "source": [
    "Basic.head(2)"
   ]
  },
  {
   "cell_type": "code",
   "execution_count": 5,
   "metadata": {},
   "outputs": [
    {
     "data": {
      "text/plain": [
       "78685"
      ]
     },
     "execution_count": 5,
     "metadata": {},
     "output_type": "execute_result"
    }
   ],
   "source": [
    "len(Basic)"
   ]
  },
  {
   "cell_type": "code",
   "execution_count": 6,
   "metadata": {},
   "outputs": [
    {
     "data": {
      "text/plain": [
       "Response_X         217371\n",
       "Response_Y    2.67112e+06\n",
       "Name: 1, dtype: object"
      ]
     },
     "execution_count": 6,
     "metadata": {},
     "output_type": "execute_result"
    }
   ],
   "source": [
    "# 確認 Response_X, Response_y 的欄位位置\n",
    "Basic.iloc[1, 34:36]"
   ]
  },
  {
   "cell_type": "code",
   "execution_count": 7,
   "metadata": {},
   "outputs": [
    {
     "data": {
      "text/plain": [
       "Index(['index', '鄉鎮市區', '交易標的', '土地區段位置/建物區段門牌', '土地移轉總面積(平方公尺)', '都市土地使用分區',\n",
       "       '非都市土地使用分區', '非都市土地使用編定', '交易年月日', '交易筆棟數', '移轉層次', '總樓層數', '建物型態',\n",
       "       '主要用途', '主要建材', '建築完成年月', '建物移轉總面積(平方公尺)', '建物現況格局-房', '建物現況格局-廳',\n",
       "       '建物現況格局-衛', '建物現況格局-隔間', '有無管理組織', '總價(元)', '單價(元/平方公尺)', '車位類別',\n",
       "       '車位移轉總面積(平方公尺)', '車位總價(元)', '備註', '編號', '登記日期', 'Address_x', 'id',\n",
       "       'Address_y', 'Response_Address', 'Response_X', 'Response_Y',\n",
       "       'csv_file_name'],\n",
       "      dtype='object')"
      ]
     },
     "execution_count": 7,
     "metadata": {},
     "output_type": "execute_result"
    }
   ],
   "source": [
    "Basic.columns"
   ]
  },
  {
   "cell_type": "markdown",
   "metadata": {},
   "source": [
    "### 物件周邊土地利用面積\n",
    "(2) Landuse : 計算物件周邊土地利用(住宅/工業/商業)等相關面積"
   ]
  },
  {
   "cell_type": "code",
   "execution_count": 8,
   "metadata": {},
   "outputs": [
    {
     "name": "stdout",
     "output_type": "stream",
     "text": [
      "['.DS_Store', 'All_REs.cpg', 'All_REs.dbf', 'All_REs.sbn', 'All_REs.sbx', 'All_REs.shp', 'All_REs.shp.xml', 'All_REs.shx', 'Commercial_Res.CPG', 'Commercial_Res.dbf', 'Commercial_Res.sbn', 'Commercial_Res.sbx', 'Commercial_Res.shp', 'Commercial_Res.shp.xml', 'Commercial_Res.shx', 'desktop.ini', 'Indus_Res.cpg', 'Indus_Res.dbf', 'Indus_Res.sbn', 'Indus_Res.sbx', 'Indus_Res.shp', 'Indus_Res.shp.xml', 'Indus_Res.shx', 'Mix_res.cpg', 'Mix_res.dbf', 'Mix_res.sbn', 'Mix_res.sbx', 'Mix_res.shp', 'Mix_res.shp.xml', 'Mix_res.shx', 'Pure_residential.cpg', 'Pure_residential.dbf', 'Pure_residential.sbn', 'Pure_residential.sbx', 'Pure_residential.shp', 'Pure_residential.shp.xml', 'Pure_residential.shx', 'read me.txt']\n"
     ]
    }
   ],
   "source": [
    "# 匯入Landuse相關檔案\n",
    "\n",
    "# 修改當前工作目錄\n",
    "os.chdir(path + Landuse)\n",
    "\n",
    "# 確認工作目錄下之檔案清單列表\n",
    "file_list = os.listdir()\n",
    "print(file_list)"
   ]
  },
  {
   "cell_type": "code",
   "execution_count": 9,
   "metadata": {},
   "outputs": [],
   "source": [
    "# 匯入商用住宅 .shp檔案\n",
    "# All_Res = gpd.GeoDataFrame.from_file(path + Landuse + 'All_REs.shp')\n",
    "Commercial_Res = gpd.GeoDataFrame.from_file(path + Landuse + 'Commercial_Res.shp')\n",
    "# Indus_Res = gpd.GeoDataFrame.from_file(path + Landuse + 'Indus_Res.shp')\n",
    "# Mix_Res = gpd.GeoDataFrame.from_file(path + Landuse + 'Mix_res.shp')\n",
    "# Pure_Res = gpd.GeoDataFrame.from_file(path + Landuse + 'Pure_residential.shp')"
   ]
  },
  {
   "cell_type": "markdown",
   "metadata": {},
   "source": [
    "# 請先確認Radius後輸入各自負責的即可執行下面的程式"
   ]
  },
  {
   "cell_type": "markdown",
   "metadata": {},
   "source": [
    "## Radius 分配\n",
    "> Alvin radius = [100, 200]\n",
    "\n",
    "> Yoga radius = [500]\n",
    "\n",
    "> Nick radius = [1000]\n",
    "\n",
    "> Rita radius  = [1500]\n",
    "\n",
    "> Allen radius = [2000]"
   ]
  },
  {
   "cell_type": "code",
   "execution_count": null,
   "metadata": {},
   "outputs": [
    {
     "data": {
      "application/vnd.jupyter.widget-view+json": {
       "model_id": "babff4b156dd44a3bd5c2ca612d8382c",
       "version_major": 2,
       "version_minor": 0
      },
      "text/html": [
       "<p>Failed to display Jupyter Widget of type <code>HBox</code>.</p>\n",
       "<p>\n",
       "  If you're reading this message in the Jupyter Notebook or JupyterLab Notebook, it may mean\n",
       "  that the widgets JavaScript is still loading. If this message persists, it\n",
       "  likely means that the widgets JavaScript library is either not installed or\n",
       "  not enabled. See the <a href=\"https://ipywidgets.readthedocs.io/en/stable/user_install.html\">Jupyter\n",
       "  Widgets Documentation</a> for setup instructions.\n",
       "</p>\n",
       "<p>\n",
       "  If you're reading this message in another frontend (for example, a static\n",
       "  rendering on GitHub or <a href=\"https://nbviewer.jupyter.org/\">NBViewer</a>),\n",
       "  it may mean that your frontend doesn't currently support widgets.\n",
       "</p>\n"
      ],
      "text/plain": [
       "HBox(children=(IntProgress(value=0, max=10000), HTML(value='')))"
      ]
     },
     "metadata": {},
     "output_type": "display_data"
    },
    {
     "name": "stdout",
     "output_type": "stream",
     "text": [
      "\n"
     ]
    },
    {
     "data": {
      "application/vnd.jupyter.widget-view+json": {
       "model_id": "c9dca5af4e5343e7a275969b071b8a37",
       "version_major": 2,
       "version_minor": 0
      },
      "text/html": [
       "<p>Failed to display Jupyter Widget of type <code>HBox</code>.</p>\n",
       "<p>\n",
       "  If you're reading this message in the Jupyter Notebook or JupyterLab Notebook, it may mean\n",
       "  that the widgets JavaScript is still loading. If this message persists, it\n",
       "  likely means that the widgets JavaScript library is either not installed or\n",
       "  not enabled. See the <a href=\"https://ipywidgets.readthedocs.io/en/stable/user_install.html\">Jupyter\n",
       "  Widgets Documentation</a> for setup instructions.\n",
       "</p>\n",
       "<p>\n",
       "  If you're reading this message in another frontend (for example, a static\n",
       "  rendering on GitHub or <a href=\"https://nbviewer.jupyter.org/\">NBViewer</a>),\n",
       "  it may mean that your frontend doesn't currently support widgets.\n",
       "</p>\n"
      ],
      "text/plain": [
       "HBox(children=(IntProgress(value=0, max=10000), HTML(value='')))"
      ]
     },
     "metadata": {},
     "output_type": "display_data"
    },
    {
     "name": "stdout",
     "output_type": "stream",
     "text": [
      "\n"
     ]
    },
    {
     "data": {
      "application/vnd.jupyter.widget-view+json": {
       "model_id": "d02a0fd84727455cbf273200f6e91a78",
       "version_major": 2,
       "version_minor": 0
      },
      "text/html": [
       "<p>Failed to display Jupyter Widget of type <code>HBox</code>.</p>\n",
       "<p>\n",
       "  If you're reading this message in the Jupyter Notebook or JupyterLab Notebook, it may mean\n",
       "  that the widgets JavaScript is still loading. If this message persists, it\n",
       "  likely means that the widgets JavaScript library is either not installed or\n",
       "  not enabled. See the <a href=\"https://ipywidgets.readthedocs.io/en/stable/user_install.html\">Jupyter\n",
       "  Widgets Documentation</a> for setup instructions.\n",
       "</p>\n",
       "<p>\n",
       "  If you're reading this message in another frontend (for example, a static\n",
       "  rendering on GitHub or <a href=\"https://nbviewer.jupyter.org/\">NBViewer</a>),\n",
       "  it may mean that your frontend doesn't currently support widgets.\n",
       "</p>\n"
      ],
      "text/plain": [
       "HBox(children=(IntProgress(value=0, max=10000), HTML(value='')))"
      ]
     },
     "metadata": {},
     "output_type": "display_data"
    }
   ],
   "source": [
    "radius = [1500] ## 請輸入各自負責的(數值)\n",
    "batch_size = 10000 ## 目前設定一批為10000筆資料\n",
    "\n",
    "ii = 0\n",
    "while(ii + batch_size) <= len(Basic):\n",
    "    Basic_temp = Basic.iloc[ii:ii + batch_size, :]        \n",
    "    for k in radius:\n",
    "        Commercial_Res_list = []\n",
    "        Commercial_area = pd.DataFrame()\n",
    "        column_name = 'Commercial_Res_' + str(k)\n",
    "        file_name = 'Commercial_Res_' + str(k) + '_data' + str(ii + batch_size)\n",
    "        file_name1 = 'Commercial_Res_' + str(k) + '_data' + '_combine'\n",
    "            \n",
    "        for j in tqdm(range(len(Basic_temp))):\n",
    "            temp_Real_Data=pd.DataFrame(Basic_temp.iloc[j, 34:36])\n",
    "            temp_Real_Data=temp_Real_Data.transpose()\n",
    "            temp_Real_Data_Point = Point(temp_Real_Data.Response_X, temp_Real_Data.Response_Y).buffer(k)\n",
    "            d = 0 #最後要計算總面積用的\n",
    "            for i in range(len(Commercial_Res.geometry)):\n",
    "                b = Commercial_Res.geometry[i]\n",
    "                c = temp_Real_Data_Point.intersection(b)\n",
    "                d += c.area\n",
    "            Commercial_Res_list.append(d)        \n",
    "        Commercial_Res_pd = pd.DataFrame(Commercial_Res_list)\n",
    "        Commercial_Res_pd.columns = [column_name]\n",
    "        Commercial_Res_pd['orignal_index'] = Basic_temp.index ## 保留原本的index 避免與原始檔案串接後錯亂(有發現index不連續)\n",
    "        Commercial_area = pd.concat([Commercial_area, Commercial_Res_pd], axis = 1)\n",
    "        Commercial_area.to_csv(savefile + file_name)\n",
    "        Commercial_area.to_csv(savefile + file_name1, \n",
    "                               mode ='a',\n",
    "                               header = False)       \n",
    "    ii += batch_size"
   ]
  },
  {
   "cell_type": "code",
   "execution_count": null,
   "metadata": {},
   "outputs": [],
   "source": []
  },
  {
   "cell_type": "code",
   "execution_count": null,
   "metadata": {},
   "outputs": [],
   "source": []
  }
 ],
 "metadata": {
  "kernelspec": {
   "display_name": "Python 3",
   "language": "python",
   "name": "python3"
  },
  "language_info": {
   "codemirror_mode": {
    "name": "ipython",
    "version": 3
   },
   "file_extension": ".py",
   "mimetype": "text/x-python",
   "name": "python",
   "nbconvert_exporter": "python",
   "pygments_lexer": "ipython3",
   "version": "3.6.3"
  }
 },
 "nbformat": 4,
 "nbformat_minor": 2
}
